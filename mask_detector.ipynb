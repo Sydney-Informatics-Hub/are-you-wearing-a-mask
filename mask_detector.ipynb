{
 "cells": [
  {
   "cell_type": "code",
   "execution_count": 15,
   "id": "085a7e0f-6e68-48ab-9383-c3a84ebd2bba",
   "metadata": {},
   "outputs": [
    {
     "name": "stderr",
     "output_type": "stream",
     "text": [
      "Using cache found in /Users/henrylydecker/.cache/torch/hub/ultralytics_yolov5_master\n",
      "YOLOv5 🚀 2022-5-11 torch 1.11.0 CPU\n",
      "\n",
      "Fusing layers... \n",
      "Model Summary: 213 layers, 1761871 parameters, 0 gradients, 4.2 GFLOPs\n",
      "Adding AutoShape... \n"
     ]
    },
    {
     "name": "stdout",
     "output_type": "stream",
     "text": [
      "Using cache from '/Users/henrylydecker/Documents/projects/are-you-wearing-a-mask/gradio_cached_examples/' directory. If method or examples have changed since last caching, delete this folder to clear cache.\n",
      "Running on local URL:  http://127.0.0.1:7873/\n",
      "\n",
      "To create a public link, set `share=True` in `launch()`.\n"
     ]
    },
    {
     "data": {
      "text/html": [
       "\n",
       "        <iframe\n",
       "            width=\"900\"\n",
       "            height=\"500\"\n",
       "            src=\"http://127.0.0.1:7873/\"\n",
       "            frameborder=\"0\"\n",
       "            allowfullscreen\n",
       "            \n",
       "        ></iframe>\n",
       "        "
      ],
      "text/plain": [
       "<IPython.lib.display.IFrame at 0x7fcdaf04b550>"
      ]
     },
     "metadata": {},
     "output_type": "display_data"
    },
    {
     "data": {
      "text/plain": [
       "(<fastapi.applications.FastAPI at 0x7fcd884f1ee0>,\n",
       " 'http://127.0.0.1:7873/',\n",
       " None)"
      ]
     },
     "execution_count": 15,
     "metadata": {},
     "output_type": "execute_result"
    },
    {
     "name": "stderr",
     "output_type": "stream",
     "text": [
      "/var/folders/31/cjbmpgfs2fs0xpnc5z3hxjpw0000gp/T/ipykernel_24254/451752568.py:17: DeprecationWarning: ANTIALIAS is deprecated and will be removed in Pillow 10 (2023-07-01). Use Resampling.LANCZOS instead.\n",
      "  im = im.resize((int(x * g) for x in im.size), Image.ANTIALIAS)  # resize\n",
      "/var/folders/31/cjbmpgfs2fs0xpnc5z3hxjpw0000gp/T/ipykernel_24254/451752568.py:17: DeprecationWarning: ANTIALIAS is deprecated and will be removed in Pillow 10 (2023-07-01). Use Resampling.LANCZOS instead.\n",
      "  im = im.resize((int(x * g) for x in im.size), Image.ANTIALIAS)  # resize\n",
      "/var/folders/31/cjbmpgfs2fs0xpnc5z3hxjpw0000gp/T/ipykernel_24254/451752568.py:17: DeprecationWarning: ANTIALIAS is deprecated and will be removed in Pillow 10 (2023-07-01). Use Resampling.LANCZOS instead.\n",
      "  im = im.resize((int(x * g) for x in im.size), Image.ANTIALIAS)  # resize\n",
      "/var/folders/31/cjbmpgfs2fs0xpnc5z3hxjpw0000gp/T/ipykernel_24254/451752568.py:17: DeprecationWarning: ANTIALIAS is deprecated and will be removed in Pillow 10 (2023-07-01). Use Resampling.LANCZOS instead.\n",
      "  im = im.resize((int(x * g) for x in im.size), Image.ANTIALIAS)  # resize\n",
      "/var/folders/31/cjbmpgfs2fs0xpnc5z3hxjpw0000gp/T/ipykernel_24254/451752568.py:17: DeprecationWarning: ANTIALIAS is deprecated and will be removed in Pillow 10 (2023-07-01). Use Resampling.LANCZOS instead.\n",
      "  im = im.resize((int(x * g) for x in im.size), Image.ANTIALIAS)  # resize\n",
      "/var/folders/31/cjbmpgfs2fs0xpnc5z3hxjpw0000gp/T/ipykernel_24254/451752568.py:17: DeprecationWarning: ANTIALIAS is deprecated and will be removed in Pillow 10 (2023-07-01). Use Resampling.LANCZOS instead.\n",
      "  im = im.resize((int(x * g) for x in im.size), Image.ANTIALIAS)  # resize\n",
      "/var/folders/31/cjbmpgfs2fs0xpnc5z3hxjpw0000gp/T/ipykernel_24254/451752568.py:17: DeprecationWarning: ANTIALIAS is deprecated and will be removed in Pillow 10 (2023-07-01). Use Resampling.LANCZOS instead.\n",
      "  im = im.resize((int(x * g) for x in im.size), Image.ANTIALIAS)  # resize\n"
     ]
    }
   ],
   "source": [
    "import gradio as gr\n",
    "import torch\n",
    "import torchvision\n",
    "import numpy as np\n",
    "from PIL import Image\n",
    "\n",
    "# Face masks\n",
    "model = torch.hub.load('ultralytics/yolov5', 'custom', \"model_weights/face_masks_partial.pt\")\n",
    "\n",
    "# Animals\n",
    "# model = torch.hub.load('ultralytics/yolov5', 'custom', \"model_weights/datasets_1000_41class.pt\",force_reload=True)\n",
    "\n",
    "\n",
    "\n",
    "def yolo(im, size=640):\n",
    "    g = (size / max(im.size))  # gain\n",
    "    im = im.resize((int(x * g) for x in im.size), Image.ANTIALIAS)  # resize\n",
    "\n",
    "    results = model(im)  # inference\n",
    "    results.render()  # updates results.imgs with boxes and labels\n",
    "    return Image.fromarray(results.imgs[0])\n",
    "\n",
    "\n",
    "inputs = gr.inputs.Image(type='pil', label=\"Original Image\")\n",
    "outputs = gr.outputs.Image(type=\"pil\", label=\"Output Image\")\n",
    "\n",
    "title = \"Detecting masked and unmasked faces with YOLOv5\"\n",
    "description = \"YOLOv5 Gradio demo for finding faces with and without masks, using object detection. Upload an image or click an example image to use.\"\n",
    "article = \"<p style='text-align: center'>YOLOv5 is a family of compound-scaled object detection models trained on the COCO dataset, and includes simple functionality for Test Time Augmentation (TTA), model ensembling, hyperparameter evolution, and export to ONNX, CoreML and TFLite. <a href='https://github.com/ultralytics/yolov5'>Source code</a> | <a href='https://pytorch.org/hub/ultralytics_yolov5'>PyTorch Hub</a></p>\"\n",
    "\n",
    "examples = [['data/picard.jpg'], ['data/stockmasks.jpg']]\n",
    "gr.Interface(yolo, inputs, outputs, title=title, description=description, article=article, examples=examples, theme=\"huggingface\").launch(cache_examples=True,enable_queue=True)\n"
   ]
  }
 ],
 "metadata": {
  "kernelspec": {
   "display_name": "Python 3 (ipykernel)",
   "language": "python",
   "name": "python3"
  },
  "language_info": {
   "codemirror_mode": {
    "name": "ipython",
    "version": 3
   },
   "file_extension": ".py",
   "mimetype": "text/x-python",
   "name": "python",
   "nbconvert_exporter": "python",
   "pygments_lexer": "ipython3",
   "version": "3.9.12"
  }
 },
 "nbformat": 4,
 "nbformat_minor": 5
}
