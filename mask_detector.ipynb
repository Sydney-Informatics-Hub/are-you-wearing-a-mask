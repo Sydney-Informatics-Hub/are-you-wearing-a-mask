{
 "cells": [
  {
   "cell_type": "code",
   "execution_count": 9,
   "id": "085a7e0f-6e68-48ab-9383-c3a84ebd2bba",
   "metadata": {},
   "outputs": [
    {
     "name": "stderr",
     "output_type": "stream",
     "text": [
      "Using cache found in /Users/henrylydecker/.cache/torch/hub/ultralytics_yolov5_master\n",
      "YOLOv5 🚀 2022-5-11 torch 1.11.0 CPU\n",
      "\n",
      "Fusing layers... \n",
      "Model summary: 213 layers, 7015519 parameters, 0 gradients, 15.8 GFLOPs\n",
      "Adding AutoShape... \n"
     ]
    },
    {
     "name": "stdout",
     "output_type": "stream",
     "text": [
      "Using cache from '/Users/henrylydecker/Documents/projects/are-you-wearing-a-mask/gradio_cached_examples/' directory. If method or examples have changed since last caching, delete this folder to clear cache.\n",
      "Running on local URL:  http://127.0.0.1:7866/\n",
      "\n",
      "To create a public link, set `share=True` in `launch()`.\n"
     ]
    },
    {
     "data": {
      "text/html": [
       "\n",
       "        <iframe\n",
       "            width=\"900\"\n",
       "            height=\"500\"\n",
       "            src=\"http://127.0.0.1:7866/\"\n",
       "            frameborder=\"0\"\n",
       "            allowfullscreen\n",
       "            \n",
       "        ></iframe>\n",
       "        "
      ],
      "text/plain": [
       "<IPython.lib.display.IFrame at 0x7fc508d43f10>"
      ]
     },
     "metadata": {},
     "output_type": "display_data"
    },
    {
     "data": {
      "text/plain": [
       "(<fastapi.applications.FastAPI at 0x7fc548854f10>,\n",
       " 'http://127.0.0.1:7866/',\n",
       " None)"
      ]
     },
     "execution_count": 9,
     "metadata": {},
     "output_type": "execute_result"
    }
   ],
   "source": [
    "import gradio as gr\n",
    "import torch\n",
    "import torchvision\n",
    "import numpy as np\n",
    "from PIL import Image\n",
    "\n",
    "# Face masks\n",
    "model = torch.hub.load('ultralytics/yolov5', 'custom', \"model_weights/face_masks_full.pt\")\n",
    "\n",
    "# Animals\n",
    "# model = torch.hub.load('ultralytics/yolov5', 'custom', \"model_weights/datasets_1000_41class.pt\",force_reload=True)\n",
    "\n",
    "\n",
    "\n",
    "def yolo(im, size=640):\n",
    "    g = (size / max(im.size))  # gain\n",
    "    im = im.resize((int(x * g) for x in im.size), Image.ANTIALIAS)  # resize\n",
    "\n",
    "    results = model(im)  # inference\n",
    "    results.render()  # updates results.imgs with boxes and labels\n",
    "    return Image.fromarray(results.imgs[0])\n",
    "\n",
    "\n",
    "inputs = gr.inputs.Image(type='pil', label=\"Original Image\")\n",
    "outputs = gr.outputs.Image(type=\"pil\", label=\"Output Image\")\n",
    "\n",
    "title = \"Detecting masked and unmasked faces with YOLOv5\"\n",
    "description = \"YOLOv5 Gradio demo for finding faces with and without masks, using object detection. Upload an image or click an example image to use.\"\n",
    "article = \"<p style='text-align: center'>YOLOv5 is a family of compound-scaled object detection models trained on the COCO dataset, and includes simple functionality for Test Time Augmentation (TTA), model ensembling, hyperparameter evolution, and export to ONNX, CoreML and TFLite. <a href='https://github.com/ultralytics/yolov5'>Source code</a> | <a href='https://pytorch.org/hub/ultralytics_yolov5'>PyTorch Hub</a></p>\"\n",
    "\n",
    "examples = [['data/picard.jpg'], ['data/stockmasks.jpg'],['data/batman.png']]\n",
    "gr.Interface(yolo, inputs, outputs, title=title, description=description, article=article, examples=examples, theme=\"huggingface\").launch(cache_examples=True,enable_queue=True)\n"
   ]
  },
  {
   "cell_type": "code",
   "execution_count": 11,
   "id": "d7a27b6b-b61b-45b0-9971-87640668f963",
   "metadata": {},
   "outputs": [
    {
     "name": "stdout",
     "output_type": "stream",
     "text": [
      "\n",
      "Please wait a moment while I gather a list of all available modules...\n",
      "\n"
     ]
    },
    {
     "name": "stderr",
     "output_type": "stream",
     "text": [
      "/Users/henrylydecker/opt/anaconda3/envs/finetune/lib/python3.9/pkgutil.py:93: UserWarning: The numpy.array_api submodule is still experimental. See NEP 47.\n",
      "  __import__(info.name)\n",
      "/Users/henrylydecker/opt/anaconda3/envs/finetune/lib/python3.9/site-packages/_distutils_hack/__init__.py:30: UserWarning: Setuptools is replacing distutils.\n",
      "  warnings.warn(\"Setuptools is replacing distutils.\")\n",
      "Created a temporary directory at /var/folders/31/cjbmpgfs2fs0xpnc5z3hxjpw0000gp/T/tmpd1geoxgo\n",
      "Writing /var/folders/31/cjbmpgfs2fs0xpnc5z3hxjpw0000gp/T/tmpd1geoxgo/_remote_module_non_sriptable.py\n",
      "NOTE: Redirects are currently not supported in Windows or MacOs.\n",
      "\u001b[34m\u001b[1mwandb\u001b[0m: \u001b[32m\u001b[41mERROR\u001b[0m kfp not found!  Please `pip install kfp`\n",
      "\u001b[34m\u001b[1mwandb\u001b[0m: \u001b[32m\u001b[41mERROR\u001b[0m Failed to patch kfp.components.create_component_from_func!  Please check if this package/module is installed!\n",
      "\u001b[34m\u001b[1mwandb\u001b[0m: \u001b[32m\u001b[41mERROR\u001b[0m Failed to patch kfp.components._python_op.create_component_from_func!  Please check if this package/module is installed!\n",
      "\u001b[34m\u001b[1mwandb\u001b[0m: \u001b[32m\u001b[41mERROR\u001b[0m Failed to patch kfp.components._python_op._get_function_source_definition!  Please check if this package/module is installed!\n",
      "\u001b[34m\u001b[1mwandb\u001b[0m: \u001b[32m\u001b[41mERROR\u001b[0m Failed to patch kfp.components._python_op.strip_type_hints!  Please check if this package/module is installed!\n",
      "\u001b[34m\u001b[1mwandb\u001b[0m: \u001b[32m\u001b[41mERROR\u001b[0m Failed to patch one or more kfp functions.  Patching @wandb_log decorator to no-op.\n",
      "\u001b[34m\u001b[1mwandb\u001b[0m: \u001b[32m\u001b[41mERROR\u001b[0m Failed to patch wandb.integration.kfp.wandb_log!  Please check if this package/module is installed!\n",
      "/Users/henrylydecker/opt/anaconda3/envs/finetune/lib/python3.9/pkgutil.py:108: VisibleDeprecationWarning: zmq.eventloop.minitornado is deprecated in pyzmq 14.0 and will be removed.\n",
      "    Install tornado itself to use zmq with the tornado IOLoop.\n",
      "    \n",
      "  yield from walk_packages(path, info.name+'.', onerror)\n"
     ]
    },
    {
     "name": "stdout",
     "output_type": "stream",
     "text": [
      "Crypto              asyncio             itertools           requests_oauthlib\n",
      "IPython             asyncore            jedi                resource\n",
      "PIL                 atexit              jinja2              rlcompleter\n",
      "__future__          attr                json                rsa\n",
      "_abc                attrs               json5               runpy\n",
      "_aix_support        audioop             jsonschema          sched\n",
      "_argon2_cffi_bindings babel               jupyter             scipy\n",
      "_ast                backcall            jupyter_client      seaborn\n",
      "_asyncio            backoff             jupyter_core        secrets\n",
      "_bisect             base64              jupyter_server      select\n",
      "_blake2             bcrypt              jupyterlab          selectors\n",
      "_bootlocale         bdb                 jupyterlab_pygments send2trash\n",
      "_bootsubprocess     binascii            jupyterlab_server   sentry_sdk\n",
      "_bz2                binhex              keyword             setproctitle\n",
      "_cffi_backend       bisect              kiwisolver          setuptools\n",
      "_codecs             bleach              lib2to3             shelve\n",
      "_codecs_cn          bs4                 linecache           shlex\n",
      "_codecs_hk          builtins            linkify_it          shortuuid\n",
      "_codecs_iso2022     bz2                 locale              shutil\n",
      "_codecs_jp          cProfile            logging             signal\n",
      "_codecs_kr          cachetools          lzma                site\n",
      "_codecs_tw          caffe2              mailbox             six\n",
      "_collections        calendar            mailcap             smmap\n",
      "_collections_abc    certifi             markdown            smtpd\n",
      "_compat_pickle      cffi                markdown_it         smtplib\n",
      "_compression        cgi                 markupsafe          sndhdr\n",
      "_contextvars        cgitb               marshal             sniffio\n",
      "_crypt              charset_normalizer  math                socket\n",
      "_csv                chunk               matplotlib          socketserver\n",
      "_ctypes             click               matplotlib_inline   soupsieve\n",
      "_ctypes_test        cmath               mdit_py_plugins     sqlite3\n",
      "_curses             cmd                 mdurl               sre_compile\n",
      "_curses_panel       code                mimetypes           sre_constants\n",
      "_datetime           codecs              mistune             sre_parse\n",
      "_dbm                codeop              mmap                ssl\n",
      "_decimal            collections         modulefinder        stack_data\n",
      "_distutils_hack     colorsys            monotonic           starlette\n",
      "_elementtree        compileall          multidict           stat\n",
      "_functools          concurrent          multipart           statistics\n",
      "_hashlib            configparser        multiprocessing     string\n",
      "_heapq              contextlib          nacl                stringprep\n",
      "_imp                contextvars         nbclassic           struct\n",
      "_io                 copy                nbclient            subprocess\n",
      "_json               copyreg             nbconvert           sunau\n",
      "_locale             crypt               nbformat            symbol\n",
      "_lsprof             cryptography        nest_asyncio        symtable\n",
      "_lzma               csv                 netrc               sys\n",
      "_markupbase         ctypes              nis                 sysconfig\n",
      "_md5                curses              nntplib             syslog\n",
      "_multibytecodec     cv2                 notebook            tabnanny\n",
      "_multiprocessing    cycler              notebook_shim       tarfile\n",
      "_opcode             dataclasses         ntpath              telnetlib\n",
      "_operator           datetime            nturl2path          tempfile\n",
      "_osx_support        dateutil            numbers             tensorboard\n",
      "_peg_parser         dbm                 numpy               tensorboard_data_server\n",
      "_pickle             debugpy             oauthlib            tensorboard_plugin_wit\n",
      "_posixshmem         decimal             opcode              terminado\n",
      "_posixsubprocess    decorator           operator            termios\n",
      "_py_abc             defusedxml          optparse            test\n",
      "_pydecimal          difflib             orjson              textwrap\n",
      "_pyio               dis                 os                  this\n",
      "_pyrsistent_version distutils           packaging           thop\n",
      "_queue              dockerpycreds       pafy                threading\n",
      "_random             doctest             pandas              time\n",
      "_remote_module_non_sriptable email               pandocfilters       timeit\n",
      "_scproxy            encodings           paramiko            tinycss2\n",
      "_sha1               ensurepip           parser              tkinter\n",
      "_sha256             entrypoints         parso               token\n",
      "_sha3               enum                pathlib             tokenize\n",
      "_sha512             errno               pathtools           torch\n",
      "_signal             executing           pdb                 torchvision\n",
      "_sitebuiltins       fastapi             pexpect             tornado\n",
      "_socket             fastjsonschema      pickle              tqdm\n",
      "_sqlite3            faulthandler        pickleshare         trace\n",
      "_sre                fcntl               pickletools         traceback\n",
      "_ssl                ffmpy               pip                 tracemalloc\n",
      "_stat               filecmp             pipes               traitlets\n",
      "_statistics         fileinput           pkg_resources       tty\n",
      "_string             fnmatch             pkgutil             turtle\n",
      "_strptime           fontTools           platform            turtledemo\n",
      "_struct             formatter           plistlib            types\n",
      "_symtable           fractions           poplib              typing\n",
      "_sysconfigdata__darwin_darwin frozenlist          posix               typing_extensions\n",
      "_sysconfigdata_x86_64_apple_darwin13_4_0 ftplib              posixpath           uc_micro\n",
      "_testbuffer         functools           pprint              unicodedata\n",
      "_testcapi           gc                  profile             unittest\n",
      "_testimportmultiple genericpath         prometheus_client   urllib\n",
      "_testinternalcapi   getopt              promise             urllib3\n",
      "_testmultiphase     getpass             prompt_toolkit      uu\n",
      "_thread             gettext             pstats              uuid\n",
      "_threading_local    git                 psutil              uvicorn\n",
      "_tkinter            gitdb               pty                 venv\n",
      "_tracemalloc        glob                ptyprocess          wandb\n",
      "_uuid               google_auth_oauthlib pure_eval           warnings\n",
      "_warnings           gradio              pvectorc            wave\n",
      "_weakref            graphlib            pwd                 wcwidth\n",
      "_weakrefset         grp                 py_compile          weakref\n",
      "_xxsubinterpreters  grpc                pyasn1              webbrowser\n",
      "_xxtestfuzz         gzip                pyasn1_modules      webencodings\n",
      "_yaml               h11                 pyclbr              websocket\n",
      "_zoneinfo           hashlib             pycparser           werkzeug\n",
      "abc                 heapq               pydantic            wheel\n",
      "absl                hmac                pydoc               wsgiref\n",
      "aifc                html                pydoc_data          xdrlib\n",
      "aiohttp             http                pydub               xml\n",
      "aiosignal           idlelib             pyexpat             xmlrpc\n",
      "analytics           idna                pygments            xxlimited\n",
      "antigravity         imaplib             pylab               xxsubtype\n",
      "anyio               imghdr              pyparsing           yaml\n",
      "appnope             imp                 pyrsistent          yarl\n",
      "argon2              importlib           pytz                youtube_dl\n",
      "argparse            importlib_metadata  queue               zipapp\n",
      "array               inspect             quopri              zipfile\n",
      "asgiref             io                  random              zipimport\n",
      "ast                 ipaddress           re                  zipp\n",
      "asttokens           ipykernel           readline            zlib\n",
      "async_timeout       ipykernel_launcher  reprlib             zmq\n",
      "asynchat            ipython_genutils    requests            zoneinfo\n",
      "\n",
      "Enter any module name to get more help.  Or, type \"modules spam\" to search\n",
      "for modules whose name or summary contain the string \"spam\".\n",
      "\n"
     ]
    }
   ],
   "source": [
    "help('modules')"
   ]
  },
  {
   "cell_type": "code",
   "execution_count": 8,
   "id": "40313e6d-d68f-46ec-947a-d5335c32439d",
   "metadata": {},
   "outputs": [
    {
     "name": "stderr",
     "output_type": "stream",
     "text": [
      "Using cache found in /Users/henrylydecker/.cache/torch/hub/ultralytics_yolov5_master\n",
      "YOLOv5 🚀 2022-5-11 torch 1.11.0 CPU\n",
      "\n",
      "Fusing layers... \n",
      "Model summary: 213 layers, 7204309 parameters, 0 gradients\n",
      "Adding AutoShape... \n"
     ]
    },
    {
     "name": "stdout",
     "output_type": "stream",
     "text": [
      "Using cache from '/Users/henrylydecker/Documents/projects/are-you-wearing-a-mask/gradio_cached_examples/' directory. If method or examples have changed since last caching, delete this folder to clear cache.\n",
      "Running on local URL:  http://127.0.0.1:7865/\n",
      "\n",
      "To create a public link, set `share=True` in `launch()`.\n"
     ]
    },
    {
     "data": {
      "text/html": [
       "\n",
       "        <iframe\n",
       "            width=\"900\"\n",
       "            height=\"500\"\n",
       "            src=\"http://127.0.0.1:7865/\"\n",
       "            frameborder=\"0\"\n",
       "            allowfullscreen\n",
       "            \n",
       "        ></iframe>\n",
       "        "
      ],
      "text/plain": [
       "<IPython.lib.display.IFrame at 0x7fc549a693d0>"
      ]
     },
     "metadata": {},
     "output_type": "display_data"
    },
    {
     "data": {
      "text/plain": [
       "(<fastapi.applications.FastAPI at 0x7fc548854f10>,\n",
       " 'http://127.0.0.1:7865/',\n",
       " None)"
      ]
     },
     "execution_count": 8,
     "metadata": {},
     "output_type": "execute_result"
    },
    {
     "name": "stderr",
     "output_type": "stream",
     "text": [
      "/var/folders/31/cjbmpgfs2fs0xpnc5z3hxjpw0000gp/T/ipykernel_28849/4210877411.py:17: DeprecationWarning: ANTIALIAS is deprecated and will be removed in Pillow 10 (2023-07-01). Use Resampling.LANCZOS instead.\n",
      "  im = im.resize((int(x * g) for x in im.size), Image.ANTIALIAS)  # resize\n"
     ]
    }
   ],
   "source": [
    "import gradio as gr\n",
    "import torch\n",
    "import torchvision\n",
    "import numpy as np\n",
    "from PIL import Image\n",
    "\n",
    "# Face masks\n",
    "model = torch.hub.load('ultralytics/yolov5', 'custom', \"model_weights/72_class_v5s.pt\")\n",
    "\n",
    "# Animals\n",
    "# model = torch.hub.load('ultralytics/yolov5', 'custom', \"model_weights/datasets_1000_41class.pt\",force_reload=True)\n",
    "\n",
    "\n",
    "\n",
    "def yolo(im, size=640):\n",
    "    g = (size / max(im.size))  # gain\n",
    "    im = im.resize((int(x * g) for x in im.size), Image.ANTIALIAS)  # resize\n",
    "\n",
    "    results = model(im)  # inference\n",
    "    results.render()  # updates results.imgs with boxes and labels\n",
    "    return Image.fromarray(results.imgs[0])\n",
    "\n",
    "\n",
    "inputs = gr.inputs.Image(type='pil', label=\"Original Image\")\n",
    "outputs = gr.outputs.Image(type=\"pil\", label=\"Output Image\")\n",
    "\n",
    "title = \"Detecting masked and unmasked faces with YOLOv5\"\n",
    "description = \"YOLOv5 Gradio demo for finding faces with and without masks, using object detection. Upload an image or click an example image to use.\"\n",
    "article = \"<p style='text-align: center'>YOLOv5 is a family of compound-scaled object detection models trained on the COCO dataset, and includes simple functionality for Test Time Augmentation (TTA), model ensembling, hyperparameter evolution, and export to ONNX, CoreML and TFLite. <a href='https://github.com/ultralytics/yolov5'>Source code</a> | <a href='https://pytorch.org/hub/ultralytics_yolov5'>PyTorch Hub</a></p>\"\n",
    "\n",
    "examples = [['data/picard.jpg'], ['data/stockmasks.jpg'],['data/batman.png']]\n",
    "gr.Interface(yolo, inputs, outputs, title=title, description=description, article=article, examples=examples, theme=\"huggingface\").launch(cache_examples=True,enable_queue=True)"
   ]
  },
  {
   "cell_type": "code",
   "execution_count": 2,
   "id": "8adfeae0-32cd-49a7-9ea3-9ec4decc95a5",
   "metadata": {},
   "outputs": [
    {
     "name": "stdout",
     "output_type": "stream",
     "text": [
      "Collecting gradio\n",
      "  Using cached gradio-2.9.4-py3-none-any.whl (2.9 MB)\n",
      "Collecting analytics-python\n",
      "  Using cached analytics_python-1.4.0-py2.py3-none-any.whl (15 kB)\n",
      "Collecting pydub\n",
      "  Using cached pydub-0.25.1-py2.py3-none-any.whl (32 kB)\n",
      "Requirement already satisfied: numpy in /Users/henrylydecker/opt/anaconda3/envs/finetune/lib/python3.9/site-packages (from gradio) (1.22.3)\n",
      "Collecting paramiko\n",
      "  Using cached paramiko-2.10.4-py2.py3-none-any.whl (212 kB)\n",
      "Requirement already satisfied: pillow in /Users/henrylydecker/opt/anaconda3/envs/finetune/lib/python3.9/site-packages (from gradio) (9.1.0)\n",
      "Collecting markdown-it-py[linkify,plugins]\n",
      "  Using cached markdown_it_py-2.1.0-py3-none-any.whl (84 kB)\n",
      "Collecting fastapi\n",
      "  Downloading fastapi-0.78.0-py3-none-any.whl (54 kB)\n",
      "\u001b[K     |████████████████████████████████| 54 kB 4.7 MB/s eta 0:00:01\n",
      "\u001b[?25hRequirement already satisfied: matplotlib in /Users/henrylydecker/opt/anaconda3/envs/finetune/lib/python3.9/site-packages (from gradio) (3.5.2)\n",
      "Collecting ffmpy\n",
      "  Using cached ffmpy-0.3.0-py3-none-any.whl\n",
      "Collecting aiohttp\n",
      "  Using cached aiohttp-3.8.1-cp39-cp39-macosx_10_9_x86_64.whl (574 kB)\n",
      "Requirement already satisfied: pandas in /Users/henrylydecker/opt/anaconda3/envs/finetune/lib/python3.9/site-packages (from gradio) (1.4.2)\n",
      "Collecting pycryptodome\n",
      "  Using cached pycryptodome-3.14.1-cp35-abi3-macosx_10_9_x86_64.whl (1.5 MB)\n",
      "Collecting python-multipart\n",
      "  Using cached python_multipart-0.0.5-py3-none-any.whl\n",
      "Collecting uvicorn\n",
      "  Using cached uvicorn-0.17.6-py3-none-any.whl (53 kB)\n",
      "Collecting orjson\n",
      "  Using cached orjson-3.6.8-cp39-cp39-macosx_10_9_x86_64.macosx_11_0_arm64.macosx_10_9_universal2.whl (445 kB)\n",
      "Requirement already satisfied: Jinja2 in /Users/henrylydecker/opt/anaconda3/envs/finetune/lib/python3.9/site-packages (from gradio) (3.1.2)\n",
      "Requirement already satisfied: requests in /Users/henrylydecker/opt/anaconda3/envs/finetune/lib/python3.9/site-packages (from gradio) (2.27.1)\n",
      "Collecting async-timeout<5.0,>=4.0.0a3\n",
      "  Using cached async_timeout-4.0.2-py3-none-any.whl (5.8 kB)\n",
      "Requirement already satisfied: charset-normalizer<3.0,>=2.0 in /Users/henrylydecker/opt/anaconda3/envs/finetune/lib/python3.9/site-packages (from aiohttp->gradio) (2.0.12)\n",
      "Collecting frozenlist>=1.1.1\n",
      "  Using cached frozenlist-1.3.0-cp39-cp39-macosx_10_9_x86_64.whl (36 kB)\n",
      "Collecting multidict<7.0,>=4.5\n",
      "  Using cached multidict-6.0.2-cp39-cp39-macosx_10_9_x86_64.whl (28 kB)\n",
      "Requirement already satisfied: attrs>=17.3.0 in /Users/henrylydecker/opt/anaconda3/envs/finetune/lib/python3.9/site-packages (from aiohttp->gradio) (21.4.0)\n",
      "Collecting yarl<2.0,>=1.0\n",
      "  Using cached yarl-1.7.2-cp39-cp39-macosx_10_9_x86_64.whl (121 kB)\n",
      "Collecting aiosignal>=1.1.2\n",
      "  Using cached aiosignal-1.2.0-py3-none-any.whl (8.2 kB)\n",
      "Requirement already satisfied: idna>=2.0 in /Users/henrylydecker/opt/anaconda3/envs/finetune/lib/python3.9/site-packages (from yarl<2.0,>=1.0->aiohttp->gradio) (3.3)\n",
      "Collecting backoff==1.10.0\n",
      "  Using cached backoff-1.10.0-py2.py3-none-any.whl (31 kB)\n",
      "Requirement already satisfied: six>=1.5 in /Users/henrylydecker/opt/anaconda3/envs/finetune/lib/python3.9/site-packages (from analytics-python->gradio) (1.16.0)\n",
      "Requirement already satisfied: python-dateutil>2.1 in /Users/henrylydecker/opt/anaconda3/envs/finetune/lib/python3.9/site-packages (from analytics-python->gradio) (2.8.2)\n",
      "Collecting monotonic>=1.5\n",
      "  Using cached monotonic-1.6-py2.py3-none-any.whl (8.2 kB)\n",
      "Requirement already satisfied: urllib3<1.27,>=1.21.1 in /Users/henrylydecker/opt/anaconda3/envs/finetune/lib/python3.9/site-packages (from requests->gradio) (1.26.9)\n",
      "Requirement already satisfied: certifi>=2017.4.17 in /Users/henrylydecker/opt/anaconda3/envs/finetune/lib/python3.9/site-packages (from requests->gradio) (2021.10.8)\n",
      "Collecting starlette==0.19.1\n",
      "  Using cached starlette-0.19.1-py3-none-any.whl (63 kB)\n",
      "Collecting pydantic!=1.7,!=1.7.1,!=1.7.2,!=1.7.3,!=1.8,!=1.8.1,<2.0.0,>=1.6.2\n",
      "  Using cached pydantic-1.9.0-cp39-cp39-macosx_10_9_x86_64.whl (2.9 MB)\n",
      "Requirement already satisfied: anyio<5,>=3.4.0 in /Users/henrylydecker/opt/anaconda3/envs/finetune/lib/python3.9/site-packages (from starlette==0.19.1->fastapi->gradio) (3.5.0)\n",
      "Requirement already satisfied: typing-extensions>=3.10.0 in /Users/henrylydecker/opt/anaconda3/envs/finetune/lib/python3.9/site-packages (from starlette==0.19.1->fastapi->gradio) (4.2.0)\n",
      "Requirement already satisfied: sniffio>=1.1 in /Users/henrylydecker/opt/anaconda3/envs/finetune/lib/python3.9/site-packages (from anyio<5,>=3.4.0->starlette==0.19.1->fastapi->gradio) (1.2.0)\n",
      "Requirement already satisfied: MarkupSafe>=2.0 in /Users/henrylydecker/opt/anaconda3/envs/finetune/lib/python3.9/site-packages (from Jinja2->gradio) (2.1.1)\n",
      "Collecting mdurl~=0.1\n",
      "  Using cached mdurl-0.1.1-py3-none-any.whl (10 kB)\n",
      "Collecting linkify-it-py~=1.0\n",
      "  Using cached linkify_it_py-1.0.3-py3-none-any.whl (19 kB)\n",
      "Collecting mdit-py-plugins\n",
      "  Using cached mdit_py_plugins-0.3.0-py3-none-any.whl (43 kB)\n",
      "Collecting uc-micro-py\n",
      "  Using cached uc_micro_py-1.0.1-py3-none-any.whl (6.2 kB)\n",
      "Requirement already satisfied: fonttools>=4.22.0 in /Users/henrylydecker/opt/anaconda3/envs/finetune/lib/python3.9/site-packages (from matplotlib->gradio) (4.33.3)\n",
      "Requirement already satisfied: pyparsing>=2.2.1 in /Users/henrylydecker/opt/anaconda3/envs/finetune/lib/python3.9/site-packages (from matplotlib->gradio) (3.0.8)\n",
      "Requirement already satisfied: packaging>=20.0 in /Users/henrylydecker/opt/anaconda3/envs/finetune/lib/python3.9/site-packages (from matplotlib->gradio) (21.3)\n",
      "Requirement already satisfied: cycler>=0.10 in /Users/henrylydecker/opt/anaconda3/envs/finetune/lib/python3.9/site-packages (from matplotlib->gradio) (0.11.0)\n",
      "Requirement already satisfied: kiwisolver>=1.0.1 in /Users/henrylydecker/opt/anaconda3/envs/finetune/lib/python3.9/site-packages (from matplotlib->gradio) (1.4.2)\n",
      "Requirement already satisfied: pytz>=2020.1 in /Users/henrylydecker/opt/anaconda3/envs/finetune/lib/python3.9/site-packages (from pandas->gradio) (2022.1)\n",
      "Collecting bcrypt>=3.1.3\n",
      "  Using cached bcrypt-3.2.2-cp36-abi3-macosx_10_10_universal2.whl (50 kB)\n",
      "Collecting cryptography>=2.5\n",
      "  Using cached cryptography-37.0.2-cp36-abi3-macosx_10_10_x86_64.whl (2.8 MB)\n",
      "Collecting pynacl>=1.0.1\n",
      "  Using cached PyNaCl-1.5.0-cp36-abi3-macosx_10_10_universal2.whl (349 kB)\n",
      "Requirement already satisfied: cffi>=1.1 in /Users/henrylydecker/opt/anaconda3/envs/finetune/lib/python3.9/site-packages (from bcrypt>=3.1.3->paramiko->gradio) (1.15.0)\n",
      "Requirement already satisfied: pycparser in /Users/henrylydecker/opt/anaconda3/envs/finetune/lib/python3.9/site-packages (from cffi>=1.1->bcrypt>=3.1.3->paramiko->gradio) (2.21)\n",
      "Requirement already satisfied: click>=7.0 in /Users/henrylydecker/opt/anaconda3/envs/finetune/lib/python3.9/site-packages (from uvicorn->gradio) (8.1.3)\n",
      "Collecting asgiref>=3.4.0\n",
      "  Using cached asgiref-3.5.1-py3-none-any.whl (22 kB)\n",
      "Collecting h11>=0.8\n",
      "  Using cached h11-0.13.0-py3-none-any.whl (58 kB)\n",
      "Installing collected packages: mdurl, uc-micro-py, multidict, markdown-it-py, frozenlist, yarl, starlette, pynacl, pydantic, monotonic, mdit-py-plugins, linkify-it-py, h11, cryptography, bcrypt, backoff, async-timeout, asgiref, aiosignal, uvicorn, python-multipart, pydub, pycryptodome, paramiko, orjson, ffmpy, fastapi, analytics-python, aiohttp, gradio\n",
      "Successfully installed aiohttp-3.8.1 aiosignal-1.2.0 analytics-python-1.4.0 asgiref-3.5.1 async-timeout-4.0.2 backoff-1.10.0 bcrypt-3.2.2 cryptography-37.0.2 fastapi-0.78.0 ffmpy-0.3.0 frozenlist-1.3.0 gradio-2.9.4 h11-0.13.0 linkify-it-py-1.0.3 markdown-it-py-2.1.0 mdit-py-plugins-0.3.0 mdurl-0.1.1 monotonic-1.6 multidict-6.0.2 orjson-3.6.8 paramiko-2.10.4 pycryptodome-3.14.1 pydantic-1.9.0 pydub-0.25.1 pynacl-1.5.0 python-multipart-0.0.5 starlette-0.19.1 uc-micro-py-1.0.1 uvicorn-0.17.6 yarl-1.7.2\n"
     ]
    }
   ],
   "source": [
    "!pip install gradio"
   ]
  },
  {
   "cell_type": "code",
   "execution_count": 4,
   "id": "70793208-4e15-4cf9-9176-100de7dc6261",
   "metadata": {},
   "outputs": [
    {
     "name": "stderr",
     "output_type": "stream",
     "text": [
      "Using cache found in /Users/henrylydecker/.cache/torch/hub/ultralytics_yolov5_master\n",
      "YOLOv5 🚀 2022-5-11 torch 1.11.0 CPU\n",
      "\n",
      "Fusing layers... \n",
      "Model summary: 213 layers, 1761871 parameters, 0 gradients, 4.2 GFLOPs\n",
      "Adding AutoShape... \n"
     ]
    },
    {
     "name": "stdout",
     "output_type": "stream",
     "text": [
      "Using cache from '/Users/henrylydecker/Documents/projects/are-you-wearing-a-mask/gradio_cached_examples/' directory. If method or examples have changed since last caching, delete this folder to clear cache.\n",
      "Running on local URL:  http://127.0.0.1:7861/\n",
      "\n",
      "To create a public link, set `share=True` in `launch()`.\n"
     ]
    },
    {
     "data": {
      "text/html": [
       "\n",
       "        <iframe\n",
       "            width=\"900\"\n",
       "            height=\"500\"\n",
       "            src=\"http://127.0.0.1:7861/\"\n",
       "            frameborder=\"0\"\n",
       "            allowfullscreen\n",
       "            \n",
       "        ></iframe>\n",
       "        "
      ],
      "text/plain": [
       "<IPython.lib.display.IFrame at 0x7fc4f916d4f0>"
      ]
     },
     "metadata": {},
     "output_type": "display_data"
    },
    {
     "data": {
      "text/plain": [
       "(<fastapi.applications.FastAPI at 0x7fc548854f10>,\n",
       " 'http://127.0.0.1:7861/',\n",
       " None)"
      ]
     },
     "execution_count": 4,
     "metadata": {},
     "output_type": "execute_result"
    },
    {
     "name": "stderr",
     "output_type": "stream",
     "text": [
      "Traceback (most recent call last):\n",
      "  File \"/Users/henrylydecker/opt/anaconda3/envs/finetune/lib/python3.9/site-packages/gradio/routes.py\", line 269, in predict\n",
      "    output = await run_in_threadpool(app.launchable.process_api, body, username)\n",
      "  File \"/Users/henrylydecker/opt/anaconda3/envs/finetune/lib/python3.9/site-packages/starlette/concurrency.py\", line 41, in run_in_threadpool\n",
      "    return await anyio.to_thread.run_sync(func, *args)\n",
      "  File \"/Users/henrylydecker/opt/anaconda3/envs/finetune/lib/python3.9/site-packages/anyio/to_thread.py\", line 28, in run_sync\n",
      "    return await get_asynclib().run_sync_in_worker_thread(func, *args, cancellable=cancellable,\n",
      "  File \"/Users/henrylydecker/opt/anaconda3/envs/finetune/lib/python3.9/site-packages/anyio/_backends/_asyncio.py\", line 818, in run_sync_in_worker_thread\n",
      "    return await future\n",
      "  File \"/Users/henrylydecker/opt/anaconda3/envs/finetune/lib/python3.9/site-packages/anyio/_backends/_asyncio.py\", line 754, in run\n",
      "    result = context.run(func, *args)\n",
      "  File \"/Users/henrylydecker/opt/anaconda3/envs/finetune/lib/python3.9/site-packages/gradio/interface.py\", line 573, in process_api\n",
      "    prediction, durations = self.process(raw_input)\n",
      "  File \"/Users/henrylydecker/opt/anaconda3/envs/finetune/lib/python3.9/site-packages/gradio/interface.py\", line 611, in process\n",
      "    processed_input = [\n",
      "  File \"/Users/henrylydecker/opt/anaconda3/envs/finetune/lib/python3.9/site-packages/gradio/interface.py\", line 612, in <listcomp>\n",
      "    input_component.preprocess(raw_input[i])\n",
      "  File \"/Users/henrylydecker/opt/anaconda3/envs/finetune/lib/python3.9/site-packages/gradio/inputs.py\", line 869, in preprocess\n",
      "    raise ValueError(\n",
      "ValueError: Unknown type: None. Please choose from: 'numpy', 'pil', 'filepath'.\n"
     ]
    }
   ],
   "source": [
    "# Webacm Prediction\n",
    "import gradio as gr\n",
    "import torch\n",
    "import torchvision\n",
    "import numpy as np\n",
    "from PIL import Image\n",
    "\n",
    "# Face masks\n",
    "model = torch.hub.load('ultralytics/yolov5', 'custom', \"model_weights/face_masks_partial.pt\")\n",
    "\n",
    "# Animals\n",
    "# model = torch.hub.load('ultralytics/yolov5', 'custom', \"model_weights/datasets_1000_41class.pt\",force_reload=True)\n",
    "\n",
    "\n",
    "\n",
    "def yolo(im, size=640):\n",
    "    g = (size / max(im.size))  # gain\n",
    "    im = im.resize((int(x * g) for x in im.size), Image.ANTIALIAS)  # resize\n",
    "\n",
    "    results = model(im)  # inference\n",
    "    results.render()  # updates results.imgs with boxes and labels\n",
    "    return Image.fromarray(results.imgs[0])\n",
    "\n",
    "\n",
    "inputs = gr.inputs.Image(type=None,source=\"webcam\", label=\"Original Image\")\n",
    "outputs = gr.outputs.Image(label=\"Output Image\")\n",
    "\n",
    "title = \"Detecting masked and unmasked faces with YOLOv5\"\n",
    "description = \"YOLOv5 Gradio demo for finding faces with and without masks, using object detection. Upload an image or click an example image to use.\"\n",
    "article = \"<p style='text-align: center'>YOLOv5 is a family of compound-scaled object detection models trained on the COCO dataset, and includes simple functionality for Test Time Augmentation (TTA), model ensembling, hyperparameter evolution, and export to ONNX, CoreML and TFLite. <a href='https://github.com/ultralytics/yolov5'>Source code</a> | <a href='https://pytorch.org/hub/ultralytics_yolov5'>PyTorch Hub</a></p>\"\n",
    "\n",
    "examples = [['data/picard.jpg'], ['data/stockmasks.jpg']]\n",
    "gr.Interface(yolo, inputs, outputs, live=True, title=title, description=description, article=article, examples=examples, theme=\"huggingface\").launch(cache_examples=True,enable_queue=True)\n"
   ]
  }
 ],
 "metadata": {
  "kernelspec": {
   "display_name": "Python 3 (ipykernel)",
   "language": "python",
   "name": "python3"
  },
  "language_info": {
   "codemirror_mode": {
    "name": "ipython",
    "version": 3
   },
   "file_extension": ".py",
   "mimetype": "text/x-python",
   "name": "python",
   "nbconvert_exporter": "python",
   "pygments_lexer": "ipython3",
   "version": "3.9.12"
  }
 },
 "nbformat": 4,
 "nbformat_minor": 5
}
