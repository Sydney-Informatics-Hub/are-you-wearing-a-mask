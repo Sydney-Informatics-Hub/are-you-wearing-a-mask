{
  "nbformat": 4,
  "nbformat_minor": 0,
  "metadata": {
    "colab": {
      "name": "cv-demo.ipynb",
      "provenance": [],
      "collapsed_sections": [],
      "authorship_tag": "ABX9TyMvo66evgymP9buLpq6z1K6",
      "include_colab_link": true
    },
    "kernelspec": {
      "name": "python3",
      "display_name": "Python 3"
    },
    "language_info": {
      "name": "python"
    }
  },
  "cells": [
    {
      "cell_type": "markdown",
      "metadata": {
        "id": "view-in-github",
        "colab_type": "text"
      },
      "source": [
        "<a href=\"https://colab.research.google.com/github/hlydecker/are-you-wearing-a-mask/blob/main/cv_demo.ipynb\" target=\"_parent\"><img src=\"https://colab.research.google.com/assets/colab-badge.svg\" alt=\"Open In Colab\"/></a>"
      ]
    },
    {
      "cell_type": "markdown",
      "source": [
        "# Computer Vision Demo\n",
        "\n",
        "## Introduction\n",
        "\n",
        "This notebook provides a simple example for using fine tuning a computer vision model to perform object detection.\n",
        "\n",
        "Computer vision (often abbreviated as CV) is a broad term for a range of models, algorithms, technologies, and techniques that involve processing and gaining insight from imaging sensors. The potential uses of computer vision are nearly endless, but two of the most well known examples are face recognition and self driving cars.\n",
        "\n",
        "Most self driving car developers incorporate a mix of radar, LIDAR, and optical imaging sensors around a vehicle to collect data on the vehicle's environment. This data is passed to computers in the car that then make decisions based on what the sensors report."
      ],
      "metadata": {
        "id": "nTXnvsYhGPU_"
      }
    },
    {
      "cell_type": "markdown",
      "source": [
        "# Setup\n",
        "\n",
        "Before we get started, we need to set a few things up. To train our model, we will be using a Google Colab notebook. If you aren't familiar with Colab, it is a service provided by Google where users can run notebooks on Google Cloud Platform virtual machines. At the moment, they provide access to GPUs for users on the free tier. We will be using a Google Colab GPU machine for this demonstation.\n",
        "\n",
        "The first step is to clone the YOLOv5 repository from GitHub to out Colab."
      ],
      "metadata": {
        "id": "ybtMXUcGGZ2P"
      }
    },
    {
      "cell_type": "markdown",
      "source": [
        ""
      ],
      "metadata": {
        "id": "mxijPEPzGelQ"
      }
    },
    {
      "cell_type": "code",
      "source": [
        "!git clone https://github.com/ultralytics/yolov5 "
      ],
      "metadata": {
        "id": "8pYpfSkWGhSg"
      },
      "execution_count": null,
      "outputs": []
    },
    {
      "cell_type": "code",
      "source": [
        "%cd yolov5\n",
        "%pip install -qr requirements.txt # install dependencies\n",
        "%pip install -q roboflow wandb\n",
        "\n",
        "import torch\n",
        "import os\n",
        "from IPython.display import Image, clear_output  # to display images"
      ],
      "metadata": {
        "id": "9qYCj7KfGiP6"
      },
      "execution_count": null,
      "outputs": []
    },
    {
      "cell_type": "code",
      "source": [
        "print(f\"Setup complete. Using torch {torch.__version__} ({torch.cuda.get_device_properties(0).name if torch.cuda.is_available() else 'CPU'})\")"
      ],
      "metadata": {
        "id": "N9RPQIm4GnEe"
      },
      "execution_count": null,
      "outputs": []
    },
    {
      "cell_type": "code",
      "source": [
        "%cd .."
      ],
      "metadata": {
        "id": "qvZpDqH9GqxN"
      },
      "execution_count": null,
      "outputs": []
    },
    {
      "cell_type": "code",
      "source": [
        "!python yolov5/train.py --img 640 --batch 16 --epochs 100 --data data.yaml --project cv-demo --weights yolov5s.pt"
      ],
      "metadata": {
        "id": "h2TOxVGVGsjd"
      },
      "execution_count": null,
      "outputs": []
    },
    {
      "cell_type": "code",
      "source": [
        "!python yolov5/detect.py --source \"https://www.youtube.com/watch?v=ayy6Wb8zcyc\" --weights \"/content/cv-demo/exp/weights/best.pt\"  "
      ],
      "metadata": {
        "id": "TDMjt3gLG0zs"
      },
      "execution_count": null,
      "outputs": []
    }
  ]
}